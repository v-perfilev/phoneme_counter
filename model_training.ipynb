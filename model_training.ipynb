{
 "cells": [
  {
   "cell_type": "code",
   "execution_count": null,
   "id": "initial_id",
   "metadata": {
    "collapsed": true
   },
   "outputs": [],
   "source": [
    "import os\n",
    "\n",
    "import torch\n",
    "from matplotlib import pyplot as plt\n",
    "from torch import nn\n",
    "from torch.nn.utils.rnn import pad_sequence\n",
    "from torch.optim import Adam\n",
    "from torch.optim.lr_scheduler import ReduceLROnPlateau\n",
    "from torch.utils.data import random_split, DataLoader\n",
    "\n",
    "from core.audio_model import RecurrentAttentionModel\n",
    "from datasets.speech_phonemes_dataset import SpeechPhonemesDataset"
   ]
  },
  {
   "cell_type": "code",
   "outputs": [],
   "source": [
    "dataset_path = '../_datasets/speech_phonemes_dataset.pt'\n",
    "dataset_length = 5000\n",
    "train_ratio = 0.7\n",
    "val_ratio = 0.2\n",
    "batch_size = 20\n",
    "use_mps = True\n",
    "use_cuda = False\n",
    "num_epochs = 50\n",
    "\n",
    "model_dir = '../_models/'\n",
    "os.makedirs(model_dir, exist_ok=True)\n",
    "weights_file_name = model_dir + 'weights_phonemes_counter_model.pth'\n",
    "model_file_name = model_dir + 'phonemes_counter_model.pth'"
   ],
   "metadata": {
    "collapsed": false
   },
   "id": "37bf3af345e6759c",
   "execution_count": null
  },
  {
   "cell_type": "code",
   "outputs": [],
   "source": [
    "def collate_fn(batch):\n",
    "    if use_cuda and torch.cuda.is_available():\n",
    "        device = torch.device(\"cuda\")\n",
    "    elif use_mps and torch.backends.mps.is_available():\n",
    "        device = torch.device(\"mps\")\n",
    "    else:\n",
    "        device = torch.device(\"cpu\")\n",
    "\n",
    "    spectrograms, phoneme_counts = zip(*batch)\n",
    "    spectrograms = [s.squeeze(0).permute(1, 0) for s in spectrograms]\n",
    "    spectrograms = pad_sequence(spectrograms, batch_first=True)\n",
    "    spectrograms = spectrograms.to(device).to(torch.float32)\n",
    "    phoneme_counts = torch.tensor(phoneme_counts).to(device).to(torch.float32)\n",
    "\n",
    "    return spectrograms, phoneme_counts\n",
    "\n",
    "\n",
    "dataset: SpeechPhonemesDataset = torch.load(dataset_path)\n",
    "if dataset_length is not None and dataset_length < len(dataset):\n",
    "    dataset, _ = random_split(dataset, [dataset_length, len(dataset) - dataset_length])\n",
    "\n",
    "dataset_size = len(dataset)\n",
    "train_size = round((dataset_size * train_ratio) / batch_size) * batch_size\n",
    "val_size = round((dataset_size * val_ratio) / batch_size) * batch_size\n",
    "test_size = dataset_size - train_size - val_size\n",
    "\n",
    "train_dataset, val_dataset, test_dataset = random_split(dataset, [train_size, val_size, test_size])\n",
    "\n",
    "train_loader = DataLoader(train_dataset, batch_size=batch_size, shuffle=True, collate_fn=collate_fn)\n",
    "val_loader = DataLoader(val_dataset, batch_size=batch_size, shuffle=False, collate_fn=collate_fn)\n",
    "test_loader = DataLoader(test_dataset, batch_size=batch_size, shuffle=False, collate_fn=collate_fn)\n",
    "\n",
    "print('Finished data preparation')"
   ],
   "metadata": {
    "collapsed": false
   },
   "id": "344fb10967dd5085",
   "execution_count": null
  },
  {
   "cell_type": "code",
   "outputs": [],
   "source": [
    "def move_model_to_device(model):\n",
    "    if use_cuda and torch.cuda.is_available():\n",
    "        device = torch.device(\"cuda\")\n",
    "    elif use_mps and torch.backends.mps.is_available():\n",
    "        device = torch.device(\"mps\")\n",
    "    else:\n",
    "        device = torch.device(\"cpu\")\n",
    "    model.to(device)\n",
    "    model.to(torch.float32)\n",
    "\n",
    "\n",
    "model = RecurrentAttentionModel(216, 265, 4, 0.3)\n",
    "move_model_to_device(model)\n",
    "\n",
    "criterion = nn.HuberLoss()\n",
    "optimizer = Adam(model.parameters(), lr=1e-3, weight_decay=1e-4)\n",
    "scheduler = ReduceLROnPlateau(optimizer, mode='min', factor=0.1, patience=10)\n",
    "\n",
    "print('Model initialized')"
   ],
   "metadata": {
    "collapsed": false
   },
   "id": "93b9b5bdb31c1448",
   "execution_count": null
  },
  {
   "cell_type": "code",
   "outputs": [],
   "source": [
    "train_losses = []\n",
    "val_losses = []"
   ],
   "metadata": {
    "collapsed": false
   },
   "id": "404338646c77a8f5",
   "execution_count": null
  },
  {
   "cell_type": "code",
   "outputs": [],
   "source": [
    "for epoch in range(num_epochs):\n",
    "    model.train()\n",
    "    running_loss = 0.0\n",
    "    for inputs, labels in train_loader:\n",
    "        optimizer.zero_grad()\n",
    "        outputs = model(inputs)\n",
    "        loss = criterion(outputs, labels)\n",
    "        loss.backward()\n",
    "        optimizer.step()\n",
    "        running_loss += loss.item() * inputs.size(0)\n",
    "\n",
    "    train_loss = running_loss / len(train_loader.dataset)\n",
    "    train_losses.append(train_loss)\n",
    "\n",
    "    model.eval()\n",
    "    val_loss = 0.0\n",
    "    with torch.no_grad():\n",
    "        for inputs, labels in val_loader:\n",
    "            outputs = model(inputs)\n",
    "            loss = criterion(outputs, labels)\n",
    "            val_loss += loss.item() * inputs.size(0)\n",
    "\n",
    "    val_loss = val_loss / len(val_loader.dataset)\n",
    "    val_losses.append(val_loss)\n",
    "\n",
    "    scheduler.step(val_loss)\n",
    "\n",
    "    print(f\"Epoch {epoch + 1}, Training Loss: {train_loss:.0f}, Validation Loss: {val_loss:.0f}\")"
   ],
   "metadata": {
    "collapsed": false
   },
   "id": "903d83bd84c3c807",
   "execution_count": null
  },
  {
   "cell_type": "code",
   "outputs": [],
   "source": [
    "plt.figure(figsize=(12, 5))\n",
    "plt.subplot(1, 2, 1)\n",
    "plt.plot(train_losses, label='Training Loss')\n",
    "plt.plot(val_losses, label='Validation Loss')\n",
    "plt.xlabel('Epoch')\n",
    "plt.ylabel('Loss')\n",
    "plt.title('Loss during training')\n",
    "plt.legend()\n",
    "\n",
    "plt.show()"
   ],
   "metadata": {
    "collapsed": false
   },
   "id": "10a47041a6231692",
   "execution_count": null
  },
  {
   "cell_type": "code",
   "outputs": [],
   "source": [
    "model.eval()\n",
    "test_loss = 0.0\n",
    "correct = 0\n",
    "total = 0\n",
    "with torch.no_grad():\n",
    "    for inputs, labels in test_loader:\n",
    "        outputs = model(inputs)\n",
    "        loss = criterion(outputs, labels)\n",
    "        test_loss += loss.item() * inputs.size(0)\n",
    "\n",
    "test_loss = test_loss / len(test_loader.dataset)\n",
    "\n",
    "print(f'Test Loss: {test_loss:.4f}')"
   ],
   "metadata": {
    "collapsed": false
   },
   "id": "2595b20da0240eb7",
   "execution_count": null
  },
  {
   "cell_type": "code",
   "outputs": [],
   "source": [
    "torch.save(model.state_dict(), weights_file_name)\n",
    "torch.save(model, model_file_name)\n",
    "\n",
    "print('Model saved')"
   ],
   "metadata": {
    "collapsed": false
   },
   "id": "ba3ec3e17ded8a26"
  }
 ],
 "metadata": {
  "kernelspec": {
   "display_name": "Python 3",
   "language": "python",
   "name": "python3"
  },
  "language_info": {
   "codemirror_mode": {
    "name": "ipython",
    "version": 2
   },
   "file_extension": ".py",
   "mimetype": "text/x-python",
   "name": "python",
   "nbconvert_exporter": "python",
   "pygments_lexer": "ipython2",
   "version": "2.7.6"
  }
 },
 "nbformat": 4,
 "nbformat_minor": 5
}
