{
 "cells": [
  {
   "cell_type": "code",
   "id": "initial_id",
   "metadata": {
    "collapsed": true
   },
   "source": [
    "import os\n",
    "from functools import partial\n",
    "\n",
    "import torch\n",
    "from matplotlib import pyplot as plt\n",
    "from torch.nn.utils.rnn import pad_sequence\n",
    "from torch.optim import Adam\n",
    "from torch.optim.lr_scheduler import ReduceLROnPlateau\n",
    "from torch.utils.data import random_split, DataLoader\n",
    "\n",
    "from core.abs_loss import AbsLoss\n",
    "from core.recurrent_attention_model import RecurrentAttentionModel\n",
    "from utils.device_utils import to_device_fn"
   ],
   "outputs": [],
   "execution_count": null
  },
  {
   "cell_type": "code",
   "source": [
    "dataset_path = '../_datasets/test_valentini_speech_syllables_dataset.pt'\n",
    "dataset_length = 500\n",
    "train_ratio = 0.8\n",
    "batch_size = 20\n",
    "use_mps = True\n",
    "use_cuda = False\n",
    "num_epochs = 50\n",
    "\n",
    "model_dir = '../_models/'\n",
    "os.makedirs(model_dir, exist_ok=True)\n",
    "weights_file_name = model_dir + 'weights_syllable_counter_model.pth'\n",
    "model_file_name = model_dir + 'syllable_counter_model.pth'"
   ],
   "metadata": {
    "collapsed": false
   },
   "id": "37bf3af345e6759c",
   "outputs": [],
   "execution_count": null
  },
  {
   "metadata": {},
   "cell_type": "code",
   "source": "custom_to_device_fn = partial(to_device_fn, use_cuda=use_cuda, use_mps=use_mps)",
   "id": "8e6bb500472a85cd",
   "outputs": [],
   "execution_count": null
  },
  {
   "cell_type": "code",
   "source": [
    "def collate_fn(batch):\n",
    "    spectrograms, syllable_counts = zip(*batch)\n",
    "    spectrograms = [s.squeeze(0).permute(1, 0) for s in spectrograms]\n",
    "    spectrograms = pad_sequence(spectrograms, batch_first=True)\n",
    "    spectrograms = custom_to_device_fn(spectrograms)\n",
    "    syllable_counts = custom_to_device_fn(torch.tensor(syllable_counts))\n",
    "    return spectrograms, syllable_counts\n",
    "\n",
    "\n",
    "dataset = torch.load(dataset_path)\n",
    "if dataset_length is not None and dataset_length < len(dataset):\n",
    "    dataset, _ = random_split(dataset, [dataset_length, len(dataset) - dataset_length])\n",
    "\n",
    "dataset_size = len(dataset)\n",
    "train_size = round((dataset_size * train_ratio) / batch_size) * batch_size\n",
    "val_size = dataset_size - train_size\n",
    "\n",
    "train_dataset, val_dataset = random_split(dataset, [train_size, val_size])\n",
    "\n",
    "train_loader = DataLoader(train_dataset, batch_size=batch_size, shuffle=True, collate_fn=collate_fn)\n",
    "val_loader = DataLoader(val_dataset, batch_size=batch_size, shuffle=False, collate_fn=collate_fn)\n",
    "\n",
    "print('Finished data preparation')"
   ],
   "metadata": {
    "collapsed": false
   },
   "id": "344fb10967dd5085",
   "outputs": [],
   "execution_count": null
  },
  {
   "cell_type": "code",
   "source": [
    "model = RecurrentAttentionModel(1, 256, 2)\n",
    "custom_to_device_fn(model)\n",
    "\n",
    "print('Model initialized')"
   ],
   "metadata": {
    "collapsed": false
   },
   "id": "93b9b5bdb31c1448",
   "outputs": [],
   "execution_count": null
  },
  {
   "metadata": {},
   "cell_type": "code",
   "source": [
    "criterion = AbsLoss()\n",
    "optimizer = Adam(model.parameters(), lr=1e-3)\n",
    "scheduler = ReduceLROnPlateau(optimizer, mode='min', factor=0.1, patience=5, threshold=0.01, cooldown=5, min_lr=1e-5)"
   ],
   "id": "8172b4b9c297c702",
   "outputs": [],
   "execution_count": null
  },
  {
   "cell_type": "code",
   "source": [
    "train_losses = []\n",
    "val_losses = []"
   ],
   "metadata": {
    "collapsed": false
   },
   "id": "404338646c77a8f5",
   "outputs": [],
   "execution_count": null
  },
  {
   "cell_type": "code",
   "source": [
    "for epoch in range(num_epochs):\n",
    "    model.train()\n",
    "    running_loss = 0.0\n",
    "    for inputs, labels in train_loader:\n",
    "        optimizer.zero_grad()\n",
    "        outputs = model(inputs)\n",
    "        loss = criterion(outputs, labels)\n",
    "        loss.backward()\n",
    "        optimizer.step()\n",
    "        running_loss += loss.item() * inputs.size(0)\n",
    "\n",
    "    train_loss = running_loss / len(train_loader.dataset)\n",
    "    train_losses.append(train_loss)\n",
    "\n",
    "    model.eval()\n",
    "    val_loss = 0.0\n",
    "    with torch.no_grad():\n",
    "        for inputs, labels in val_loader:\n",
    "            outputs = model(inputs)\n",
    "            loss = criterion(outputs, labels)\n",
    "            val_loss += loss.item() * inputs.size(0)\n",
    "\n",
    "    val_loss = val_loss / len(val_loader.dataset)\n",
    "    val_losses.append(val_loss)\n",
    "\n",
    "    scheduler.step(val_loss)\n",
    "\n",
    "    lr = optimizer.param_groups[0]['lr']\n",
    "    print(f\"Epoch {epoch + 1}, Training Loss: {train_loss:.2f}, Validation Loss: {val_loss:.2f}, LR: {lr:.1e}\")\n",
    "\n",
    "print('Finished Training')"
   ],
   "metadata": {
    "collapsed": false
   },
   "id": "903d83bd84c3c807",
   "outputs": [],
   "execution_count": null
  },
  {
   "cell_type": "code",
   "source": [
    "plt.figure(figsize=(12, 5))\n",
    "plt.subplot(1, 2, 1)\n",
    "plt.plot(train_losses, label='Training Loss')\n",
    "plt.plot(val_losses, label='Validation Loss')\n",
    "plt.xlabel('Epoch')\n",
    "plt.ylabel('Loss')\n",
    "plt.title('Loss during training')\n",
    "plt.legend()\n",
    "\n",
    "plt.show()"
   ],
   "metadata": {
    "collapsed": false
   },
   "id": "10a47041a6231692",
   "outputs": [],
   "execution_count": null
  },
  {
   "cell_type": "code",
   "source": [
    "torch.save(model.state_dict(), weights_file_name)\n",
    "torch.save(model, model_file_name)\n",
    "\n",
    "print('Model saved')"
   ],
   "metadata": {
    "collapsed": false
   },
   "id": "ba3ec3e17ded8a26",
   "outputs": [],
   "execution_count": null
  },
  {
   "metadata": {},
   "cell_type": "code",
   "source": "",
   "id": "c5ba66e45919931c",
   "outputs": [],
   "execution_count": null
  }
 ],
 "metadata": {
  "kernelspec": {
   "display_name": "Python 3",
   "language": "python",
   "name": "python3"
  },
  "language_info": {
   "codemirror_mode": {
    "name": "ipython",
    "version": 2
   },
   "file_extension": ".py",
   "mimetype": "text/x-python",
   "name": "python",
   "nbconvert_exporter": "python",
   "pygments_lexer": "ipython2",
   "version": "2.7.6"
  }
 },
 "nbformat": 4,
 "nbformat_minor": 5
}
